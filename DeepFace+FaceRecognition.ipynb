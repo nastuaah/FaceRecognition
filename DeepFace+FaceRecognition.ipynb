{
  "nbformat": 4,
  "nbformat_minor": 0,
  "metadata": {
    "colab": {
      "provenance": [],
      "gpuType": "T4",
      "authorship_tag": "ABX9TyOwY534hKN8++gac9GdihD4",
      "include_colab_link": true
    },
    "kernelspec": {
      "name": "python3",
      "display_name": "Python 3"
    },
    "language_info": {
      "name": "python"
    },
    "accelerator": "GPU"
  },
  "cells": [
    {
      "cell_type": "markdown",
      "metadata": {
        "id": "view-in-github",
        "colab_type": "text"
      },
      "source": [
        "<a href=\"https://colab.research.google.com/github/nastuaah/FaceRecognition/blob/main/DeepFace%2BFaceRecognition.ipynb\" target=\"_parent\"><img src=\"https://colab.research.google.com/assets/colab-badge.svg\" alt=\"Open In Colab\"/></a>"
      ]
    },
    {
      "cell_type": "code",
      "source": [
        "!pip install Deepface"
      ],
      "metadata": {
        "colab": {
          "base_uri": "https://localhost:8080/"
        },
        "id": "vKF-Ng6NF0-T",
        "outputId": "c081a3fc-c35f-449f-c365-432c0637ee95"
      },
      "execution_count": 10,
      "outputs": [
        {
          "output_type": "stream",
          "name": "stdout",
          "text": [
            "Requirement already satisfied: Deepface in /usr/local/lib/python3.10/dist-packages (0.0.91)\n",
            "Requirement already satisfied: requests>=2.27.1 in /usr/local/lib/python3.10/dist-packages (from Deepface) (2.31.0)\n",
            "Requirement already satisfied: numpy>=1.14.0 in /usr/local/lib/python3.10/dist-packages (from Deepface) (1.25.2)\n",
            "Requirement already satisfied: pandas>=0.23.4 in /usr/local/lib/python3.10/dist-packages (from Deepface) (2.0.3)\n",
            "Requirement already satisfied: gdown>=3.10.1 in /usr/local/lib/python3.10/dist-packages (from Deepface) (5.1.0)\n",
            "Requirement already satisfied: tqdm>=4.30.0 in /usr/local/lib/python3.10/dist-packages (from Deepface) (4.66.4)\n",
            "Requirement already satisfied: Pillow>=5.2.0 in /usr/local/lib/python3.10/dist-packages (from Deepface) (9.4.0)\n",
            "Requirement already satisfied: opencv-python>=4.5.5.64 in /usr/local/lib/python3.10/dist-packages (from Deepface) (4.8.0.76)\n",
            "Requirement already satisfied: tensorflow>=1.9.0 in /usr/local/lib/python3.10/dist-packages (from Deepface) (2.15.0)\n",
            "Requirement already satisfied: keras>=2.2.0 in /usr/local/lib/python3.10/dist-packages (from Deepface) (2.15.0)\n",
            "Requirement already satisfied: Flask>=1.1.2 in /usr/local/lib/python3.10/dist-packages (from Deepface) (2.2.5)\n",
            "Requirement already satisfied: mtcnn>=0.1.0 in /usr/local/lib/python3.10/dist-packages (from Deepface) (0.1.1)\n",
            "Requirement already satisfied: retina-face>=0.0.1 in /usr/local/lib/python3.10/dist-packages (from Deepface) (0.0.17)\n",
            "Requirement already satisfied: fire>=0.4.0 in /usr/local/lib/python3.10/dist-packages (from Deepface) (0.6.0)\n",
            "Requirement already satisfied: gunicorn>=20.1.0 in /usr/local/lib/python3.10/dist-packages (from Deepface) (22.0.0)\n",
            "Requirement already satisfied: six in /usr/local/lib/python3.10/dist-packages (from fire>=0.4.0->Deepface) (1.16.0)\n",
            "Requirement already satisfied: termcolor in /usr/local/lib/python3.10/dist-packages (from fire>=0.4.0->Deepface) (2.4.0)\n",
            "Requirement already satisfied: Werkzeug>=2.2.2 in /usr/local/lib/python3.10/dist-packages (from Flask>=1.1.2->Deepface) (3.0.3)\n",
            "Requirement already satisfied: Jinja2>=3.0 in /usr/local/lib/python3.10/dist-packages (from Flask>=1.1.2->Deepface) (3.1.4)\n",
            "Requirement already satisfied: itsdangerous>=2.0 in /usr/local/lib/python3.10/dist-packages (from Flask>=1.1.2->Deepface) (2.2.0)\n",
            "Requirement already satisfied: click>=8.0 in /usr/local/lib/python3.10/dist-packages (from Flask>=1.1.2->Deepface) (8.1.7)\n",
            "Requirement already satisfied: beautifulsoup4 in /usr/local/lib/python3.10/dist-packages (from gdown>=3.10.1->Deepface) (4.12.3)\n",
            "Requirement already satisfied: filelock in /usr/local/lib/python3.10/dist-packages (from gdown>=3.10.1->Deepface) (3.14.0)\n",
            "Requirement already satisfied: packaging in /usr/local/lib/python3.10/dist-packages (from gunicorn>=20.1.0->Deepface) (24.0)\n",
            "Requirement already satisfied: python-dateutil>=2.8.2 in /usr/local/lib/python3.10/dist-packages (from pandas>=0.23.4->Deepface) (2.8.2)\n",
            "Requirement already satisfied: pytz>=2020.1 in /usr/local/lib/python3.10/dist-packages (from pandas>=0.23.4->Deepface) (2023.4)\n",
            "Requirement already satisfied: tzdata>=2022.1 in /usr/local/lib/python3.10/dist-packages (from pandas>=0.23.4->Deepface) (2024.1)\n",
            "Requirement already satisfied: charset-normalizer<4,>=2 in /usr/local/lib/python3.10/dist-packages (from requests>=2.27.1->Deepface) (3.3.2)\n",
            "Requirement already satisfied: idna<4,>=2.5 in /usr/local/lib/python3.10/dist-packages (from requests>=2.27.1->Deepface) (3.7)\n",
            "Requirement already satisfied: urllib3<3,>=1.21.1 in /usr/local/lib/python3.10/dist-packages (from requests>=2.27.1->Deepface) (2.0.7)\n",
            "Requirement already satisfied: certifi>=2017.4.17 in /usr/local/lib/python3.10/dist-packages (from requests>=2.27.1->Deepface) (2024.2.2)\n",
            "Requirement already satisfied: absl-py>=1.0.0 in /usr/local/lib/python3.10/dist-packages (from tensorflow>=1.9.0->Deepface) (1.4.0)\n",
            "Requirement already satisfied: astunparse>=1.6.0 in /usr/local/lib/python3.10/dist-packages (from tensorflow>=1.9.0->Deepface) (1.6.3)\n",
            "Requirement already satisfied: flatbuffers>=23.5.26 in /usr/local/lib/python3.10/dist-packages (from tensorflow>=1.9.0->Deepface) (24.3.25)\n",
            "Requirement already satisfied: gast!=0.5.0,!=0.5.1,!=0.5.2,>=0.2.1 in /usr/local/lib/python3.10/dist-packages (from tensorflow>=1.9.0->Deepface) (0.5.4)\n",
            "Requirement already satisfied: google-pasta>=0.1.1 in /usr/local/lib/python3.10/dist-packages (from tensorflow>=1.9.0->Deepface) (0.2.0)\n",
            "Requirement already satisfied: h5py>=2.9.0 in /usr/local/lib/python3.10/dist-packages (from tensorflow>=1.9.0->Deepface) (3.9.0)\n",
            "Requirement already satisfied: libclang>=13.0.0 in /usr/local/lib/python3.10/dist-packages (from tensorflow>=1.9.0->Deepface) (18.1.1)\n",
            "Requirement already satisfied: ml-dtypes~=0.2.0 in /usr/local/lib/python3.10/dist-packages (from tensorflow>=1.9.0->Deepface) (0.2.0)\n",
            "Requirement already satisfied: opt-einsum>=2.3.2 in /usr/local/lib/python3.10/dist-packages (from tensorflow>=1.9.0->Deepface) (3.3.0)\n",
            "Requirement already satisfied: protobuf!=4.21.0,!=4.21.1,!=4.21.2,!=4.21.3,!=4.21.4,!=4.21.5,<5.0.0dev,>=3.20.3 in /usr/local/lib/python3.10/dist-packages (from tensorflow>=1.9.0->Deepface) (3.20.3)\n",
            "Requirement already satisfied: setuptools in /usr/local/lib/python3.10/dist-packages (from tensorflow>=1.9.0->Deepface) (67.7.2)\n",
            "Requirement already satisfied: typing-extensions>=3.6.6 in /usr/local/lib/python3.10/dist-packages (from tensorflow>=1.9.0->Deepface) (4.11.0)\n",
            "Requirement already satisfied: wrapt<1.15,>=1.11.0 in /usr/local/lib/python3.10/dist-packages (from tensorflow>=1.9.0->Deepface) (1.14.1)\n",
            "Requirement already satisfied: tensorflow-io-gcs-filesystem>=0.23.1 in /usr/local/lib/python3.10/dist-packages (from tensorflow>=1.9.0->Deepface) (0.37.0)\n",
            "Requirement already satisfied: grpcio<2.0,>=1.24.3 in /usr/local/lib/python3.10/dist-packages (from tensorflow>=1.9.0->Deepface) (1.63.0)\n",
            "Requirement already satisfied: tensorboard<2.16,>=2.15 in /usr/local/lib/python3.10/dist-packages (from tensorflow>=1.9.0->Deepface) (2.15.2)\n",
            "Requirement already satisfied: tensorflow-estimator<2.16,>=2.15.0 in /usr/local/lib/python3.10/dist-packages (from tensorflow>=1.9.0->Deepface) (2.15.0)\n",
            "Requirement already satisfied: wheel<1.0,>=0.23.0 in /usr/local/lib/python3.10/dist-packages (from astunparse>=1.6.0->tensorflow>=1.9.0->Deepface) (0.43.0)\n",
            "Requirement already satisfied: MarkupSafe>=2.0 in /usr/local/lib/python3.10/dist-packages (from Jinja2>=3.0->Flask>=1.1.2->Deepface) (2.1.5)\n",
            "Requirement already satisfied: google-auth<3,>=1.6.3 in /usr/local/lib/python3.10/dist-packages (from tensorboard<2.16,>=2.15->tensorflow>=1.9.0->Deepface) (2.27.0)\n",
            "Requirement already satisfied: google-auth-oauthlib<2,>=0.5 in /usr/local/lib/python3.10/dist-packages (from tensorboard<2.16,>=2.15->tensorflow>=1.9.0->Deepface) (1.2.0)\n",
            "Requirement already satisfied: markdown>=2.6.8 in /usr/local/lib/python3.10/dist-packages (from tensorboard<2.16,>=2.15->tensorflow>=1.9.0->Deepface) (3.6)\n",
            "Requirement already satisfied: tensorboard-data-server<0.8.0,>=0.7.0 in /usr/local/lib/python3.10/dist-packages (from tensorboard<2.16,>=2.15->tensorflow>=1.9.0->Deepface) (0.7.2)\n",
            "Requirement already satisfied: soupsieve>1.2 in /usr/local/lib/python3.10/dist-packages (from beautifulsoup4->gdown>=3.10.1->Deepface) (2.5)\n",
            "Requirement already satisfied: PySocks!=1.5.7,>=1.5.6 in /usr/local/lib/python3.10/dist-packages (from requests>=2.27.1->Deepface) (1.7.1)\n",
            "Requirement already satisfied: cachetools<6.0,>=2.0.0 in /usr/local/lib/python3.10/dist-packages (from google-auth<3,>=1.6.3->tensorboard<2.16,>=2.15->tensorflow>=1.9.0->Deepface) (5.3.3)\n",
            "Requirement already satisfied: pyasn1-modules>=0.2.1 in /usr/local/lib/python3.10/dist-packages (from google-auth<3,>=1.6.3->tensorboard<2.16,>=2.15->tensorflow>=1.9.0->Deepface) (0.4.0)\n",
            "Requirement already satisfied: rsa<5,>=3.1.4 in /usr/local/lib/python3.10/dist-packages (from google-auth<3,>=1.6.3->tensorboard<2.16,>=2.15->tensorflow>=1.9.0->Deepface) (4.9)\n",
            "Requirement already satisfied: requests-oauthlib>=0.7.0 in /usr/local/lib/python3.10/dist-packages (from google-auth-oauthlib<2,>=0.5->tensorboard<2.16,>=2.15->tensorflow>=1.9.0->Deepface) (1.3.1)\n",
            "Requirement already satisfied: pyasn1<0.7.0,>=0.4.6 in /usr/local/lib/python3.10/dist-packages (from pyasn1-modules>=0.2.1->google-auth<3,>=1.6.3->tensorboard<2.16,>=2.15->tensorflow>=1.9.0->Deepface) (0.6.0)\n",
            "Requirement already satisfied: oauthlib>=3.0.0 in /usr/local/lib/python3.10/dist-packages (from requests-oauthlib>=0.7.0->google-auth-oauthlib<2,>=0.5->tensorboard<2.16,>=2.15->tensorflow>=1.9.0->Deepface) (3.2.2)\n"
          ]
        }
      ]
    },
    {
      "cell_type": "code",
      "source": [
        "import os\n",
        "from deepface import DeepFace\n",
        "from google.colab import drive\n",
        "\n",
        "# Монтируем Google Drive\n",
        "drive.mount('/content/drive')\n",
        "\n",
        "# Путь к директории с датасетом на Google Drive\n",
        "dataset_path = '/content/drive/MyDrive/lips_dataset'\n",
        "\n",
        "# Переменная для подсчета количества раз, когда губы были поджаты\n",
        "lips_pouted_count = 0\n",
        "\n",
        "# Обработка всех изображений в директории\n",
        "for folder in os.listdir(dataset_path):\n",
        "    folder_path = os.path.join(dataset_path, folder)\n",
        "    if os.path.isdir(folder_path):\n",
        "        for filename in os.listdir(folder_path):\n",
        "            img_path = os.path.join(folder_path, filename)\n",
        "\n",
        "            try:\n",
        "                # Анализ выражения лица на изображении\n",
        "                result = DeepFace.analyze(img_path, actions=['emotion'])\n",
        "                emotions = result['emotion']\n",
        "\n",
        "                # Проверяем, присутствует ли эмоция \"отвращение\" (поджатые губы)\n",
        "                if 'disgust' in emotions and emotions['disgust'] > 0.5:\n",
        "                    lips_pouted_count += 1\n",
        "\n",
        "            except ValueError:\n",
        "                # Если лицо не обнаружено, пропускаем это изображение\n",
        "                pass\n",
        "\n",
        "# Вывод результатов\n",
        "print(f'Number of times lips were pouted: {lips_pouted_count}')\n"
      ],
      "metadata": {
        "colab": {
          "base_uri": "https://localhost:8080/"
        },
        "id": "k9oxSpZNsjkm",
        "outputId": "eb5d8435-71f4-44ba-c7ca-3c92772d0814"
      },
      "execution_count": 21,
      "outputs": [
        {
          "output_type": "stream",
          "name": "stdout",
          "text": [
            "Drive already mounted at /content/drive; to attempt to forcibly remount, call drive.mount(\"/content/drive\", force_remount=True).\n",
            "Number of times lips were pouted: 30\n"
          ]
        }
      ]
    },
    {
      "cell_type": "code",
      "source": [
        "import os\n",
        "from deepface import DeepFace\n",
        "from google.colab import drive\n",
        "\n",
        "# Монтируем Google Drive\n",
        "drive.mount('/content/drive')\n",
        "\n",
        "# Путь к директории с датасетом на Google Drive\n",
        "dataset_path = '/content/drive/MyDrive/eye_dataset1'\n",
        "\n",
        "# Переменные для подсчета направления взгляда\n",
        "look_left_count = 0\n",
        "look_right_count = 0\n",
        "look_straight_count = 0\n",
        "\n",
        "# Обработка всех изображений в директории\n",
        "for folder in os.listdir(dataset_path):\n",
        "    folder_path = os.path.join(dataset_path, folder)\n",
        "    if os.path.isdir(folder_path):\n",
        "        for filename in os.listdir(folder_path):\n",
        "            img_path = os.path.join(folder_path, filename)\n",
        "\n",
        "            try:\n",
        "                # Анализ направления взгляда на изображении\n",
        "                result = DeepFace.analyze(img_path, actions=['gaze'])\n",
        "                gaze_direction = result['gaze']['direction']\n",
        "\n",
        "                # Подсчет направления взгляда\n",
        "                if gaze_direction == 'left':\n",
        "                    look_left_count += 1\n",
        "                elif gaze_direction == 'right':\n",
        "                    look_right_count += 1\n",
        "                elif gaze_direction == 'straight':\n",
        "                    look_straight_count += 1\n",
        "\n",
        "            except ValueError:\n",
        "                # Если лицо не обнаружено, пропускаем это изображение\n",
        "                pass\n",
        "\n",
        "# Вывод результатов\n",
        "print(f'Number of times looked left: {look_left_count}')\n",
        "print(f'Number of times looked right: {look_right_count}')\n",
        "print(f'Number of times looked straight: {look_straight_count}')\n"
      ],
      "metadata": {
        "colab": {
          "base_uri": "https://localhost:8080/"
        },
        "id": "TCxK6lH1sjB5",
        "outputId": "95261620-a40a-47f6-b8fa-88f98f627863"
      },
      "execution_count": 19,
      "outputs": [
        {
          "output_type": "stream",
          "name": "stdout",
          "text": [
            "Drive already mounted at /content/drive; to attempt to forcibly remount, call drive.mount(\"/content/drive\", force_remount=True).\n",
            "Number of times looked left: 8\n",
            "Number of times looked right: 8\n",
            "Number of times looked straight: 6\n"
          ]
        }
      ]
    },
    {
      "cell_type": "code",
      "source": [
        "import os\n",
        "from deepface import DeepFace\n",
        "from google.colab import drive\n",
        "\n",
        "# Монтируем Google Drive\n",
        "drive.mount('/content/drive')\n",
        "\n",
        "# Путь к директории с датасетом на Google Drive\n",
        "dataset_path = '/content/drive/MyDrive/head_dataset'\n",
        "\n",
        "# Переменные для подсчета направления наклона головы\n",
        "head_left_count = 0\n",
        "head_right_count = 0\n",
        "head_straight_count = 0\n",
        "\n",
        "# Обработка всех изображений в директории\n",
        "for folder in os.listdir(dataset_path):\n",
        "    folder_path = os.path.join(dataset_path, folder)\n",
        "    if os.path.isdir(folder_path):\n",
        "        for filename in os.listdir(folder_path):\n",
        "            img_path = os.path.join(folder_path, filename)\n",
        "\n",
        "            try:\n",
        "                # Анализ наклона головы на изображении\n",
        "                result = DeepFace.analyze(img_path, actions=['head_pose'])\n",
        "                head_pose = result['head_pose']\n",
        "\n",
        "                # Определение направления наклона головы\n",
        "                if head_pose['roll'] > 15:\n",
        "                    head_left_count += 1\n",
        "                elif head_pose['roll'] < -15:\n",
        "                    head_right_count += 1\n",
        "                else:\n",
        "                    head_straight_count += 1\n",
        "\n",
        "            except ValueError:\n",
        "                # Если лицо не обнаружено, пропускаем это изображение\n",
        "                pass\n",
        "\n",
        "# Вывод результатов\n",
        "print(f'Number of times head tilted left: {head_left_count}')\n",
        "print(f'Number of times head tilted right: {head_right_count}')\n",
        "print(f'Number of times head straight: {head_straight_count}')\n"
      ],
      "metadata": {
        "colab": {
          "base_uri": "https://localhost:8080/"
        },
        "id": "0PrTZCSzwdKW",
        "outputId": "ba340de2-72f4-4d8a-9de1-44fd7f86ac49"
      },
      "execution_count": 24,
      "outputs": [
        {
          "output_type": "stream",
          "name": "stdout",
          "text": [
            "Drive already mounted at /content/drive; to attempt to forcibly remount, call drive.mount(\"/content/drive\", force_remount=True).\n",
            "Number of times head tilted left: 11\n",
            "Number of times head tilted right: 13\n",
            "Number of times head straight: 9\n"
          ]
        }
      ]
    },
    {
      "cell_type": "code",
      "source": [
        "!pip install face_recognition"
      ],
      "metadata": {
        "colab": {
          "base_uri": "https://localhost:8080/"
        },
        "id": "PqpB3R5AVfnN",
        "outputId": "e4339261-674d-4c7e-f92f-8bf7b5c8730a"
      },
      "execution_count": 2,
      "outputs": [
        {
          "output_type": "stream",
          "name": "stdout",
          "text": [
            "Collecting face_recognition\n",
            "  Downloading face_recognition-1.3.0-py2.py3-none-any.whl (15 kB)\n",
            "Collecting face-recognition-models>=0.3.0 (from face_recognition)\n",
            "  Downloading face_recognition_models-0.3.0.tar.gz (100.1 MB)\n",
            "\u001b[2K     \u001b[90m━━━━━━━━━━━━━━━━━━━━━━━━━━━━━━━━━━━━━━━━\u001b[0m \u001b[32m100.1/100.1 MB\u001b[0m \u001b[31m8.7 MB/s\u001b[0m eta \u001b[36m0:00:00\u001b[0m\n",
            "\u001b[?25h  Preparing metadata (setup.py) ... \u001b[?25l\u001b[?25hdone\n",
            "Requirement already satisfied: Click>=6.0 in /usr/local/lib/python3.10/dist-packages (from face_recognition) (8.1.7)\n",
            "Requirement already satisfied: dlib>=19.7 in /usr/local/lib/python3.10/dist-packages (from face_recognition) (19.24.4)\n",
            "Requirement already satisfied: numpy in /usr/local/lib/python3.10/dist-packages (from face_recognition) (1.25.2)\n",
            "Requirement already satisfied: Pillow in /usr/local/lib/python3.10/dist-packages (from face_recognition) (9.4.0)\n",
            "Building wheels for collected packages: face-recognition-models\n",
            "  Building wheel for face-recognition-models (setup.py) ... \u001b[?25l\u001b[?25hdone\n",
            "  Created wheel for face-recognition-models: filename=face_recognition_models-0.3.0-py2.py3-none-any.whl size=100566170 sha256=e01b0769356957ec01aeb84b8574a61e57ced870bb2209f87831f5f3f4cfae1f\n",
            "  Stored in directory: /root/.cache/pip/wheels/7a/eb/cf/e9eced74122b679557f597bb7c8e4c739cfcac526db1fd523d\n",
            "Successfully built face-recognition-models\n",
            "Installing collected packages: face-recognition-models, face_recognition\n",
            "Successfully installed face-recognition-models-0.3.0 face_recognition-1.3.0\n"
          ]
        }
      ]
    },
    {
      "cell_type": "code",
      "source": [
        "import os\n",
        "from google.colab import drive\n",
        "import face_recognition\n",
        "\n",
        "# Монтируем Google Drive\n",
        "drive.mount('/content/drive')\n",
        "\n",
        "# Путь к директории с датасетом на Google Drive\n",
        "dataset_path = '/content/drive/MyDrive/lips_dataset'\n",
        "\n",
        "# Переменная для подсчета количества раз, когда губы были поджаты\n",
        "lips_pouted_count = 0\n",
        "\n",
        "# Обработка всех изображений в директории\n",
        "for folder in os.listdir(dataset_path):\n",
        "    folder_path = os.path.join(dataset_path, folder)\n",
        "    if os.path.isdir(folder_path):\n",
        "        for filename in os.listdir(folder_path):\n",
        "            img_path = os.path.join(folder_path, filename)\n",
        "\n",
        "            # Загружаем изображение\n",
        "            image = face_recognition.load_image_file(img_path)\n",
        "\n",
        "            # Находим лица на изображении\n",
        "            face_locations = face_recognition.face_locations(image)\n",
        "\n",
        "            # Анализируем каждое найденное лицо\n",
        "            for face_location in face_locations:\n",
        "                # Извлекаем признаки лица\n",
        "                top, right, bottom, left = face_location\n",
        "                face_image = image[top:bottom, left:right]\n",
        "\n",
        "                # Анализируем выражение лица\n",
        "                face_landmarks = face_recognition.face_landmarks(face_image)\n",
        "\n",
        "                # Проверяем, поджаты ли губы\n",
        "                if face_landmarks.get('top_lip') and face_landmarks.get('bottom_lip'):\n",
        "                    top_lip = face_landmarks['top_lip']\n",
        "                    bottom_lip = face_landmarks['bottom_lip']\n",
        "                    lip_distance = sum(abs(top_lip[i][1] - bottom_lip[i][1]) for i in range(len(top_lip)))\n",
        "\n",
        "                    # Если расстояние между губами небольшое, считаем, что губы поджаты\n",
        "                    if lip_distance < 20 and len(top_lip) > 0 and len(bottom_lip) > 0:\n",
        "                        lips_pouted_count += 1\n",
        "\n",
        "# Вывод результатов\n",
        "print(f'Number of times lips were pouted: {lips_pouted_count}')\n",
        "\n"
      ],
      "metadata": {
        "colab": {
          "base_uri": "https://localhost:8080/"
        },
        "id": "HzYnNwtphKY5",
        "outputId": "acf84c81-49b5-4fd6-e9b3-aee10e2446e8"
      },
      "execution_count": 14,
      "outputs": [
        {
          "output_type": "stream",
          "name": "stdout",
          "text": [
            "Drive already mounted at /content/drive; to attempt to forcibly remount, call drive.mount(\"/content/drive\", force_remount=True).\n",
            "Number of times lips were pouted: 25\n"
          ]
        }
      ]
    },
    {
      "cell_type": "code",
      "source": [
        "import os\n",
        "from google.colab import drive\n",
        "import face_recognition\n",
        "import math\n",
        "\n",
        "# Монтируем Google Drive\n",
        "drive.mount('/content/drive')\n",
        "\n",
        "# Путь к директории с датасетом на Google Drive\n",
        "dataset_path = '/content/drive/MyDrive/eye_dataset1'\n",
        "\n",
        "# Переменные для подсчета направления взгляда\n",
        "look_left_count = 0\n",
        "look_right_count = 0\n",
        "look_straight_count = 0\n",
        "\n",
        "# Обработка всех изображений в директории\n",
        "for folder in os.listdir(dataset_path):\n",
        "    folder_path = os.path.join(dataset_path, folder)\n",
        "    if os.path.isdir(folder_path):\n",
        "        for filename in os.listdir(folder_path):\n",
        "            img_path = os.path.join(folder_path, filename)\n",
        "\n",
        "            # Загружаем изображение\n",
        "            image = face_recognition.load_image_file(img_path)\n",
        "\n",
        "            # Находим лица и признаки лица на изображении\n",
        "            face_landmarks = face_recognition.face_landmarks(image)\n",
        "\n",
        "            # Анализируем каждое найденное лицо\n",
        "            for face_landmark in face_landmarks:\n",
        "                # Извлекаем координаты левого и правого глаза\n",
        "                left_eye = face_landmark['left_eye']\n",
        "                right_eye = face_landmark['right_eye']\n",
        "\n",
        "                # Вычисляем угол взгляда\n",
        "                left_eye_center = (sum([p[0] for p in left_eye]) / len(left_eye),\n",
        "                                    sum([p[1] for p in left_eye]) / len(left_eye))\n",
        "                right_eye_center = (sum([p[0] for p in right_eye]) / len(right_eye),\n",
        "                                     sum([p[1] for p in right_eye]) / len(right_eye))\n",
        "\n",
        "                dx = right_eye_center[0] - left_eye_center[0]\n",
        "                dy = right_eye_center[1] - left_eye_center[1]\n",
        "                gaze_angle = math.atan2(dy, dx) * 180 / math.pi\n",
        "\n",
        "                # Определяем направление взгляда\n",
        "                if gaze_angle > 15:\n",
        "                    look_right_count += 1\n",
        "                elif gaze_angle < -15:\n",
        "                    look_left_count += 1\n",
        "                else:\n",
        "                    look_straight_count += 1\n",
        "\n",
        "# Вывод результатов\n",
        "print(f'Number of times looked left: {look_left_count}')\n",
        "print(f'Number of times looked right: {look_right_count}')\n",
        "print(f'Number of times looked straight: {look_straight_count}')\n"
      ],
      "metadata": {
        "colab": {
          "base_uri": "https://localhost:8080/"
        },
        "id": "DzsOdS80h0zh",
        "outputId": "2b2df520-5954-40ad-c1ad-f221b10df8af"
      },
      "execution_count": 20,
      "outputs": [
        {
          "output_type": "stream",
          "name": "stdout",
          "text": [
            "Drive already mounted at /content/drive; to attempt to forcibly remount, call drive.mount(\"/content/drive\", force_remount=True).\n",
            "Number of times looked left: 7\n",
            "Number of times looked right: 10\n",
            "Number of times looked straight: 5\n"
          ]
        }
      ]
    },
    {
      "cell_type": "code",
      "source": [
        "import os\n",
        "import face_recognition\n",
        "import numpy as np\n",
        "from google.colab import drive\n",
        "\n",
        "# Монтируем Google Drive\n",
        "drive.mount('/content/drive')\n",
        "\n",
        "# Путь к директории с датасетом на Google Drive\n",
        "dataset_path = '/content/drive/MyDrive/head_dataset'\n",
        "\n",
        "# Переменные для подсчета направления наклона головы\n",
        "head_left_count = 0\n",
        "head_right_count = 0\n",
        "head_straight_count = 0\n",
        "\n",
        "# Обработка всех изображений в директории\n",
        "for folder in os.listdir(dataset_path):\n",
        "    folder_path = os.path.join(dataset_path, folder)\n",
        "    if os.path.isdir(folder_path):\n",
        "        for filename in os.listdir(folder_path):\n",
        "            img_path = os.path.join(folder_path, filename)\n",
        "\n",
        "            # Загружаем изображение\n",
        "            image = face_recognition.load_image_file(img_path)\n",
        "\n",
        "            # Находим лица и признаки лица на изображении\n",
        "            face_landmarks = face_recognition.face_landmarks(image)\n",
        "\n",
        "            # Анализируем каждое найденное лицо\n",
        "            for face_landmark in face_landmarks:\n",
        "                # Извлекаем координаты левого и правого глаза\n",
        "                left_eye = face_landmark['left_eye']\n",
        "                right_eye = face_landmark['right_eye']\n",
        "\n",
        "                # Вычисляем угол наклона головы\n",
        "                left_eye_center = np.mean(left_eye, axis=0)\n",
        "                right_eye_center = np.mean(right_eye, axis=0)\n",
        "\n",
        "                dx = right_eye_center[0] - left_eye_center[0]\n",
        "                dy = right_eye_center[1] - left_eye_center[1]\n",
        "                head_pose_angle = np.arctan2(dy, dx) * 180 / np.pi\n",
        "\n",
        "                # Определяем направление наклона головы\n",
        "                if head_pose_angle > 15:\n",
        "                    head_left_count += 1\n",
        "                elif head_pose_angle < -15:\n",
        "                    head_right_count += 1\n",
        "                else:\n",
        "                    head_straight_count += 1\n",
        "\n",
        "# Вывод результатов\n",
        "print(f'Number of times head tilted left: {head_left_count}')\n",
        "print(f'Number of times head tilted right: {head_right_count}')\n",
        "print(f'Number of times head straight: {head_straight_count}')\n"
      ],
      "metadata": {
        "colab": {
          "base_uri": "https://localhost:8080/"
        },
        "id": "kOtiKYClxPEh",
        "outputId": "9b84c2ba-3b29-4e0b-bc2c-57e3d522d519"
      },
      "execution_count": 25,
      "outputs": [
        {
          "output_type": "stream",
          "name": "stdout",
          "text": [
            "Drive already mounted at /content/drive; to attempt to forcibly remount, call drive.mount(\"/content/drive\", force_remount=True).\n",
            "Number of times head tilted left: 9\n",
            "Number of times head tilted right: 10\n",
            "Number of times head straight: 7\n"
          ]
        }
      ]
    }
  ]
}