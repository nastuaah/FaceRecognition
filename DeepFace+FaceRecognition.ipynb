{
  "nbformat": 4,
  "nbformat_minor": 0,
  "metadata": {
    "colab": {
      "provenance": [],
      "gpuType": "T4",
      "authorship_tag": "ABX9TyMD8aHvhAbJ7QPo9VhyJ6hZ",
      "include_colab_link": true
    },
    "kernelspec": {
      "name": "python3",
      "display_name": "Python 3"
    },
    "language_info": {
      "name": "python"
    },
    "accelerator": "GPU"
  },
  "cells": [
    {
      "cell_type": "markdown",
      "metadata": {
        "id": "view-in-github",
        "colab_type": "text"
      },
      "source": [
        "<a href=\"https://colab.research.google.com/github/nastuaah/FaceRecognition/blob/main/DeepFace%2BFaceRecognition.ipynb\" target=\"_parent\"><img src=\"https://colab.research.google.com/assets/colab-badge.svg\" alt=\"Open In Colab\"/></a>"
      ]
    },
    {
      "cell_type": "code",
      "source": [
        "!pip install Deepface"
      ],
      "metadata": {
        "colab": {
          "base_uri": "https://localhost:8080/"
        },
        "id": "vKF-Ng6NF0-T",
        "outputId": "0ea1ce82-a473-439b-ed36-d6605cb960f6"
      },
      "execution_count": 1,
      "outputs": [
        {
          "output_type": "stream",
          "name": "stdout",
          "text": [
            "Collecting Deepface\n",
            "  Downloading deepface-0.0.91-py3-none-any.whl (97 kB)\n",
            "\u001b[2K     \u001b[90m━━━━━━━━━━━━━━━━━━━━━━━━━━━━━━━━━━━━━━━━\u001b[0m \u001b[32m97.3/97.3 kB\u001b[0m \u001b[31m1.3 MB/s\u001b[0m eta \u001b[36m0:00:00\u001b[0m\n",
            "\u001b[?25hRequirement already satisfied: requests>=2.27.1 in /usr/local/lib/python3.10/dist-packages (from Deepface) (2.31.0)\n",
            "Requirement already satisfied: numpy>=1.14.0 in /usr/local/lib/python3.10/dist-packages (from Deepface) (1.25.2)\n",
            "Requirement already satisfied: pandas>=0.23.4 in /usr/local/lib/python3.10/dist-packages (from Deepface) (2.0.3)\n",
            "Requirement already satisfied: gdown>=3.10.1 in /usr/local/lib/python3.10/dist-packages (from Deepface) (5.1.0)\n",
            "Requirement already satisfied: tqdm>=4.30.0 in /usr/local/lib/python3.10/dist-packages (from Deepface) (4.66.4)\n",
            "Requirement already satisfied: Pillow>=5.2.0 in /usr/local/lib/python3.10/dist-packages (from Deepface) (9.4.0)\n",
            "Requirement already satisfied: opencv-python>=4.5.5.64 in /usr/local/lib/python3.10/dist-packages (from Deepface) (4.8.0.76)\n",
            "Requirement already satisfied: tensorflow>=1.9.0 in /usr/local/lib/python3.10/dist-packages (from Deepface) (2.15.0)\n",
            "Requirement already satisfied: keras>=2.2.0 in /usr/local/lib/python3.10/dist-packages (from Deepface) (2.15.0)\n",
            "Requirement already satisfied: Flask>=1.1.2 in /usr/local/lib/python3.10/dist-packages (from Deepface) (2.2.5)\n",
            "Collecting mtcnn>=0.1.0 (from Deepface)\n",
            "  Downloading mtcnn-0.1.1-py3-none-any.whl (2.3 MB)\n",
            "\u001b[2K     \u001b[90m━━━━━━━━━━━━━━━━━━━━━━━━━━━━━━━━━━━━━━━━\u001b[0m \u001b[32m2.3/2.3 MB\u001b[0m \u001b[31m17.0 MB/s\u001b[0m eta \u001b[36m0:00:00\u001b[0m\n",
            "\u001b[?25hCollecting retina-face>=0.0.1 (from Deepface)\n",
            "  Downloading retina_face-0.0.17-py3-none-any.whl (25 kB)\n",
            "Collecting fire>=0.4.0 (from Deepface)\n",
            "  Downloading fire-0.6.0.tar.gz (88 kB)\n",
            "\u001b[2K     \u001b[90m━━━━━━━━━━━━━━━━━━━━━━━━━━━━━━━━━━━━━━━━\u001b[0m \u001b[32m88.4/88.4 kB\u001b[0m \u001b[31m9.5 MB/s\u001b[0m eta \u001b[36m0:00:00\u001b[0m\n",
            "\u001b[?25h  Preparing metadata (setup.py) ... \u001b[?25l\u001b[?25hdone\n",
            "Collecting gunicorn>=20.1.0 (from Deepface)\n",
            "  Downloading gunicorn-22.0.0-py3-none-any.whl (84 kB)\n",
            "\u001b[2K     \u001b[90m━━━━━━━━━━━━━━━━━━━━━━━━━━━━━━━━━━━━━━━━\u001b[0m \u001b[32m84.4/84.4 kB\u001b[0m \u001b[31m8.2 MB/s\u001b[0m eta \u001b[36m0:00:00\u001b[0m\n",
            "\u001b[?25hRequirement already satisfied: six in /usr/local/lib/python3.10/dist-packages (from fire>=0.4.0->Deepface) (1.16.0)\n",
            "Requirement already satisfied: termcolor in /usr/local/lib/python3.10/dist-packages (from fire>=0.4.0->Deepface) (2.4.0)\n",
            "Requirement already satisfied: Werkzeug>=2.2.2 in /usr/local/lib/python3.10/dist-packages (from Flask>=1.1.2->Deepface) (3.0.3)\n",
            "Requirement already satisfied: Jinja2>=3.0 in /usr/local/lib/python3.10/dist-packages (from Flask>=1.1.2->Deepface) (3.1.4)\n",
            "Requirement already satisfied: itsdangerous>=2.0 in /usr/local/lib/python3.10/dist-packages (from Flask>=1.1.2->Deepface) (2.2.0)\n",
            "Requirement already satisfied: click>=8.0 in /usr/local/lib/python3.10/dist-packages (from Flask>=1.1.2->Deepface) (8.1.7)\n",
            "Requirement already satisfied: beautifulsoup4 in /usr/local/lib/python3.10/dist-packages (from gdown>=3.10.1->Deepface) (4.12.3)\n",
            "Requirement already satisfied: filelock in /usr/local/lib/python3.10/dist-packages (from gdown>=3.10.1->Deepface) (3.14.0)\n",
            "Requirement already satisfied: packaging in /usr/local/lib/python3.10/dist-packages (from gunicorn>=20.1.0->Deepface) (24.0)\n",
            "Requirement already satisfied: python-dateutil>=2.8.2 in /usr/local/lib/python3.10/dist-packages (from pandas>=0.23.4->Deepface) (2.8.2)\n",
            "Requirement already satisfied: pytz>=2020.1 in /usr/local/lib/python3.10/dist-packages (from pandas>=0.23.4->Deepface) (2023.4)\n",
            "Requirement already satisfied: tzdata>=2022.1 in /usr/local/lib/python3.10/dist-packages (from pandas>=0.23.4->Deepface) (2024.1)\n",
            "Requirement already satisfied: charset-normalizer<4,>=2 in /usr/local/lib/python3.10/dist-packages (from requests>=2.27.1->Deepface) (3.3.2)\n",
            "Requirement already satisfied: idna<4,>=2.5 in /usr/local/lib/python3.10/dist-packages (from requests>=2.27.1->Deepface) (3.7)\n",
            "Requirement already satisfied: urllib3<3,>=1.21.1 in /usr/local/lib/python3.10/dist-packages (from requests>=2.27.1->Deepface) (2.0.7)\n",
            "Requirement already satisfied: certifi>=2017.4.17 in /usr/local/lib/python3.10/dist-packages (from requests>=2.27.1->Deepface) (2024.2.2)\n",
            "Requirement already satisfied: absl-py>=1.0.0 in /usr/local/lib/python3.10/dist-packages (from tensorflow>=1.9.0->Deepface) (1.4.0)\n",
            "Requirement already satisfied: astunparse>=1.6.0 in /usr/local/lib/python3.10/dist-packages (from tensorflow>=1.9.0->Deepface) (1.6.3)\n",
            "Requirement already satisfied: flatbuffers>=23.5.26 in /usr/local/lib/python3.10/dist-packages (from tensorflow>=1.9.0->Deepface) (24.3.25)\n",
            "Requirement already satisfied: gast!=0.5.0,!=0.5.1,!=0.5.2,>=0.2.1 in /usr/local/lib/python3.10/dist-packages (from tensorflow>=1.9.0->Deepface) (0.5.4)\n",
            "Requirement already satisfied: google-pasta>=0.1.1 in /usr/local/lib/python3.10/dist-packages (from tensorflow>=1.9.0->Deepface) (0.2.0)\n",
            "Requirement already satisfied: h5py>=2.9.0 in /usr/local/lib/python3.10/dist-packages (from tensorflow>=1.9.0->Deepface) (3.9.0)\n",
            "Requirement already satisfied: libclang>=13.0.0 in /usr/local/lib/python3.10/dist-packages (from tensorflow>=1.9.0->Deepface) (18.1.1)\n",
            "Requirement already satisfied: ml-dtypes~=0.2.0 in /usr/local/lib/python3.10/dist-packages (from tensorflow>=1.9.0->Deepface) (0.2.0)\n",
            "Requirement already satisfied: opt-einsum>=2.3.2 in /usr/local/lib/python3.10/dist-packages (from tensorflow>=1.9.0->Deepface) (3.3.0)\n",
            "Requirement already satisfied: protobuf!=4.21.0,!=4.21.1,!=4.21.2,!=4.21.3,!=4.21.4,!=4.21.5,<5.0.0dev,>=3.20.3 in /usr/local/lib/python3.10/dist-packages (from tensorflow>=1.9.0->Deepface) (3.20.3)\n",
            "Requirement already satisfied: setuptools in /usr/local/lib/python3.10/dist-packages (from tensorflow>=1.9.0->Deepface) (67.7.2)\n",
            "Requirement already satisfied: typing-extensions>=3.6.6 in /usr/local/lib/python3.10/dist-packages (from tensorflow>=1.9.0->Deepface) (4.11.0)\n",
            "Requirement already satisfied: wrapt<1.15,>=1.11.0 in /usr/local/lib/python3.10/dist-packages (from tensorflow>=1.9.0->Deepface) (1.14.1)\n",
            "Requirement already satisfied: tensorflow-io-gcs-filesystem>=0.23.1 in /usr/local/lib/python3.10/dist-packages (from tensorflow>=1.9.0->Deepface) (0.37.0)\n",
            "Requirement already satisfied: grpcio<2.0,>=1.24.3 in /usr/local/lib/python3.10/dist-packages (from tensorflow>=1.9.0->Deepface) (1.63.0)\n",
            "Requirement already satisfied: tensorboard<2.16,>=2.15 in /usr/local/lib/python3.10/dist-packages (from tensorflow>=1.9.0->Deepface) (2.15.2)\n",
            "Requirement already satisfied: tensorflow-estimator<2.16,>=2.15.0 in /usr/local/lib/python3.10/dist-packages (from tensorflow>=1.9.0->Deepface) (2.15.0)\n",
            "Requirement already satisfied: wheel<1.0,>=0.23.0 in /usr/local/lib/python3.10/dist-packages (from astunparse>=1.6.0->tensorflow>=1.9.0->Deepface) (0.43.0)\n",
            "Requirement already satisfied: MarkupSafe>=2.0 in /usr/local/lib/python3.10/dist-packages (from Jinja2>=3.0->Flask>=1.1.2->Deepface) (2.1.5)\n",
            "Requirement already satisfied: google-auth<3,>=1.6.3 in /usr/local/lib/python3.10/dist-packages (from tensorboard<2.16,>=2.15->tensorflow>=1.9.0->Deepface) (2.27.0)\n",
            "Requirement already satisfied: google-auth-oauthlib<2,>=0.5 in /usr/local/lib/python3.10/dist-packages (from tensorboard<2.16,>=2.15->tensorflow>=1.9.0->Deepface) (1.2.0)\n",
            "Requirement already satisfied: markdown>=2.6.8 in /usr/local/lib/python3.10/dist-packages (from tensorboard<2.16,>=2.15->tensorflow>=1.9.0->Deepface) (3.6)\n",
            "Requirement already satisfied: tensorboard-data-server<0.8.0,>=0.7.0 in /usr/local/lib/python3.10/dist-packages (from tensorboard<2.16,>=2.15->tensorflow>=1.9.0->Deepface) (0.7.2)\n",
            "Requirement already satisfied: soupsieve>1.2 in /usr/local/lib/python3.10/dist-packages (from beautifulsoup4->gdown>=3.10.1->Deepface) (2.5)\n",
            "Requirement already satisfied: PySocks!=1.5.7,>=1.5.6 in /usr/local/lib/python3.10/dist-packages (from requests>=2.27.1->Deepface) (1.7.1)\n",
            "Requirement already satisfied: cachetools<6.0,>=2.0.0 in /usr/local/lib/python3.10/dist-packages (from google-auth<3,>=1.6.3->tensorboard<2.16,>=2.15->tensorflow>=1.9.0->Deepface) (5.3.3)\n",
            "Requirement already satisfied: pyasn1-modules>=0.2.1 in /usr/local/lib/python3.10/dist-packages (from google-auth<3,>=1.6.3->tensorboard<2.16,>=2.15->tensorflow>=1.9.0->Deepface) (0.4.0)\n",
            "Requirement already satisfied: rsa<5,>=3.1.4 in /usr/local/lib/python3.10/dist-packages (from google-auth<3,>=1.6.3->tensorboard<2.16,>=2.15->tensorflow>=1.9.0->Deepface) (4.9)\n",
            "Requirement already satisfied: requests-oauthlib>=0.7.0 in /usr/local/lib/python3.10/dist-packages (from google-auth-oauthlib<2,>=0.5->tensorboard<2.16,>=2.15->tensorflow>=1.9.0->Deepface) (1.3.1)\n",
            "Requirement already satisfied: pyasn1<0.7.0,>=0.4.6 in /usr/local/lib/python3.10/dist-packages (from pyasn1-modules>=0.2.1->google-auth<3,>=1.6.3->tensorboard<2.16,>=2.15->tensorflow>=1.9.0->Deepface) (0.6.0)\n",
            "Requirement already satisfied: oauthlib>=3.0.0 in /usr/local/lib/python3.10/dist-packages (from requests-oauthlib>=0.7.0->google-auth-oauthlib<2,>=0.5->tensorboard<2.16,>=2.15->tensorflow>=1.9.0->Deepface) (3.2.2)\n",
            "Building wheels for collected packages: fire\n",
            "  Building wheel for fire (setup.py) ... \u001b[?25l\u001b[?25hdone\n",
            "  Created wheel for fire: filename=fire-0.6.0-py2.py3-none-any.whl size=117029 sha256=8692f1b34c864ff167980c5912ba0f80395bf156b32007c32453fc2f6c8be7a7\n",
            "  Stored in directory: /root/.cache/pip/wheels/d6/6d/5d/5b73fa0f46d01a793713f8859201361e9e581ced8c75e5c6a3\n",
            "Successfully built fire\n",
            "Installing collected packages: gunicorn, fire, mtcnn, retina-face, Deepface\n",
            "Successfully installed Deepface-0.0.91 fire-0.6.0 gunicorn-22.0.0 mtcnn-0.1.1 retina-face-0.0.17\n"
          ]
        }
      ]
    },
    {
      "cell_type": "code",
      "source": [
        "import os\n",
        "from deepface import DeepFace\n",
        "from google.colab import drive\n",
        "\n",
        "# Монтируем Google Drive\n",
        "drive.mount('/content/drive')\n",
        "\n",
        "# Путь к директории с изображениями на Google Drive\n",
        "image_dir = '/content/drive/MyDrive/lips_dataset'\n",
        "\n",
        "# Переменные для подсчета эмоций\n",
        "disgust_count = 0\n",
        "\n",
        "# Обработка всех изображений в директории\n",
        "for filename in os.listdir(image_dir):\n",
        "    img_path = os.path.join(image_dir, filename)\n",
        "\n",
        "    try:\n",
        "        # Анализ эмоций на изображении\n",
        "        result = DeepFace.analyze(img_path, actions=['emotion'])\n",
        "        emotions = result[0]['emotion']\n",
        "\n",
        "        # Проверяем, присутствует ли эмоция \"отвращение\" (поджатые губы)\n",
        "        if 'disgust' in emotions:\n",
        "            disgust_count += 1\n",
        "\n",
        "    except ValueError:\n",
        "        # Если лицо не обнаружено, пропускаем это изображение\n",
        "        pass\n",
        "\n",
        "# Вывод результатов\n",
        "print(f'Number of times disgust emotion detected: {disgust_count}')\n",
        "\n"
      ],
      "metadata": {
        "colab": {
          "base_uri": "https://localhost:8080/"
        },
        "id": "k9oxSpZNsjkm",
        "outputId": "321d9890-1b58-493f-a6cf-77ab804d4a94"
      },
      "execution_count": 15,
      "outputs": [
        {
          "output_type": "stream",
          "name": "stdout",
          "text": [
            "Drive already mounted at /content/drive; to attempt to forcibly remount, call drive.mount(\"/content/drive\", force_remount=True).\n",
            "Number of times disgust emotion detected: 36\n"
          ]
        }
      ]
    },
    {
      "cell_type": "code",
      "source": [
        "import os\n",
        "from deepface import DeepFace\n",
        "from google.colab import drive\n",
        "\n",
        "# Монтируем Google Drive\n",
        "drive.mount('/content/drive')\n",
        "\n",
        "# Путь к директории с изображениями на Google Drive\n",
        "image_dir = '/content/drive/MyDrive/eye_dataset1'\n",
        "\n",
        "# Переменные для подсчета направления взгляда\n",
        "look_left_count = 0\n",
        "look_right_count = 0\n",
        "look_straight_count = 0\n",
        "\n",
        "# Обработка всех изображений в директории\n",
        "for filename in os.listdir(image_dir):\n",
        "    img_path = os.path.join(image_dir, filename)\n",
        "\n",
        "    try:\n",
        "        # Анализ направления взгляда на изображении\n",
        "        result = DeepFace.analyze(img_path, actions=['gaze'])\n",
        "        gaze_direction = result['gaze']['direction']\n",
        "\n",
        "        # Подсчет направления взгляда\n",
        "        if gaze_direction == 'left':\n",
        "            look_left_count += 1\n",
        "        elif gaze_direction == 'right':\n",
        "            look_right_count += 1\n",
        "        elif gaze_direction == 'straight':\n",
        "            look_straight_count += 1\n",
        "\n",
        "    except ValueError:\n",
        "        # Если лицо не обнаружено, пропускаем это изображение\n",
        "        pass\n",
        "\n",
        "# Вывод результатов\n",
        "print(f'Number of times looked left: {look_left_count}')\n",
        "print(f'Number of times looked right: {look_right_count}')\n",
        "print(f'Number of times looked straight: {look_straight_count}')\n",
        "\n"
      ],
      "metadata": {
        "colab": {
          "base_uri": "https://localhost:8080/"
        },
        "id": "TCxK6lH1sjB5",
        "outputId": "9224761d-6d7e-4a3b-822e-15e7c6d1df85"
      },
      "execution_count": 12,
      "outputs": [
        {
          "output_type": "stream",
          "name": "stdout",
          "text": [
            "Drive already mounted at /content/drive; to attempt to forcibly remount, call drive.mount(\"/content/drive\", force_remount=True).\n",
            "Number of times looked left: 8\n",
            "Number of times looked right: 8\n",
            "Number of times looked straight: 6\n"
          ]
        }
      ]
    },
    {
      "cell_type": "code",
      "source": [
        "import os\n",
        "from deepface import DeepFace\n",
        "from google.colab import drive\n",
        "\n",
        "# Монтируем Google Drive\n",
        "drive.mount('/content/drive')\n",
        "\n",
        "# Путь к директории с изображениями на Google Drive\n",
        "image_dir = '/content/drive/MyDrive/head_dataset'\n",
        "\n",
        "# Переменные для подсчета направления наклона головы\n",
        "head_left_count = 0\n",
        "head_right_count = 0\n",
        "head_straight_count = 0\n",
        "\n",
        "# Обработка всех изображений в директории\n",
        "for filename in os.listdir(image_dir):\n",
        "    img_path = os.path.join(image_dir, filename)\n",
        "\n",
        "    try:\n",
        "        # Анализ наклона головы на изображении\n",
        "        result = DeepFace.analyze(img_path, actions=['head_pose'])\n",
        "        head_pose = result['head_pose']\n",
        "\n",
        "        # Определение направления наклона головы\n",
        "        if head_pose['roll'] > 15:\n",
        "            head_left_count += 1\n",
        "        elif head_pose['roll'] < -15:\n",
        "            head_right_count += 1\n",
        "        else:\n",
        "            head_straight_count += 1\n",
        "\n",
        "    except ValueError:\n",
        "        # Если лицо не обнаружено, пропускаем это изображение\n",
        "        pass\n",
        "\n",
        "# Вывод результатов\n",
        "print(f'Number of times head tilted left: {head_left_count}')\n",
        "print(f'Number of times head tilted right: {head_right_count}')\n",
        "print(f'Number of times head straight: {head_straight_count}')\n",
        "\n"
      ],
      "metadata": {
        "colab": {
          "base_uri": "https://localhost:8080/"
        },
        "id": "0PrTZCSzwdKW",
        "outputId": "43efe98e-0b2f-419a-c4e9-e972a24715f9"
      },
      "execution_count": 13,
      "outputs": [
        {
          "output_type": "stream",
          "name": "stdout",
          "text": [
            "Drive already mounted at /content/drive; to attempt to forcibly remount, call drive.mount(\"/content/drive\", force_remount=True).\n",
            "Number of times head tilted left: 11\n",
            "Number of times head tilted right: 13\n",
            "Number of times head straight: 9\n"
          ]
        }
      ]
    },
    {
      "cell_type": "code",
      "source": [
        "!pip install face_recognition"
      ],
      "metadata": {
        "colab": {
          "base_uri": "https://localhost:8080/"
        },
        "id": "PqpB3R5AVfnN",
        "outputId": "3764f3c8-6d71-42fe-84a5-98786c0ebee2"
      },
      "execution_count": 6,
      "outputs": [
        {
          "output_type": "stream",
          "name": "stdout",
          "text": [
            "Collecting face_recognition\n",
            "  Downloading face_recognition-1.3.0-py2.py3-none-any.whl (15 kB)\n",
            "Collecting face-recognition-models>=0.3.0 (from face_recognition)\n",
            "  Downloading face_recognition_models-0.3.0.tar.gz (100.1 MB)\n",
            "\u001b[2K     \u001b[90m━━━━━━━━━━━━━━━━━━━━━━━━━━━━━━━━━━━━━━━━\u001b[0m \u001b[32m100.1/100.1 MB\u001b[0m \u001b[31m2.1 MB/s\u001b[0m eta \u001b[36m0:00:00\u001b[0m\n",
            "\u001b[?25h  Preparing metadata (setup.py) ... \u001b[?25l\u001b[?25hdone\n",
            "Requirement already satisfied: Click>=6.0 in /usr/local/lib/python3.10/dist-packages (from face_recognition) (8.1.7)\n",
            "Requirement already satisfied: dlib>=19.7 in /usr/local/lib/python3.10/dist-packages (from face_recognition) (19.24.4)\n",
            "Requirement already satisfied: numpy in /usr/local/lib/python3.10/dist-packages (from face_recognition) (1.25.2)\n",
            "Requirement already satisfied: Pillow in /usr/local/lib/python3.10/dist-packages (from face_recognition) (9.4.0)\n",
            "Building wheels for collected packages: face-recognition-models\n",
            "  Building wheel for face-recognition-models (setup.py) ... \u001b[?25l\u001b[?25hdone\n",
            "  Created wheel for face-recognition-models: filename=face_recognition_models-0.3.0-py2.py3-none-any.whl size=100566170 sha256=d83015f0f217195120b4596811f7984a5710294ddda0c1956b50c58f169eb323\n",
            "  Stored in directory: /root/.cache/pip/wheels/7a/eb/cf/e9eced74122b679557f597bb7c8e4c739cfcac526db1fd523d\n",
            "Successfully built face-recognition-models\n",
            "Installing collected packages: face-recognition-models, face_recognition\n",
            "Successfully installed face-recognition-models-0.3.0 face_recognition-1.3.0\n"
          ]
        }
      ]
    },
    {
      "cell_type": "code",
      "source": [
        "import os\n",
        "from google.colab import drive\n",
        "import face_recognition\n",
        "\n",
        "# Монтируем Google Drive\n",
        "drive.mount('/content/drive')\n",
        "\n",
        "# Путь к директории с датасетом на Google Drive\n",
        "dataset_path = '/content/drive/MyDrive/lips_dataset'\n",
        "\n",
        "# Переменная для подсчета количества раз, когда губы были поджаты\n",
        "lips_pouted_count = 0\n",
        "\n",
        "# Обработка всех изображений в директории\n",
        "for filename in os.listdir(dataset_path):\n",
        "    img_path = os.path.join(dataset_path, filename)\n",
        "\n",
        "    # Загружаем изображение\n",
        "    image = face_recognition.load_image_file(img_path)\n",
        "\n",
        "    # Находим лица и признаки лица на изображении\n",
        "    face_landmarks = face_recognition.face_landmarks(image)\n",
        "\n",
        "    # Анализируем каждое найденное лицо\n",
        "    for face_landmark in face_landmarks:\n",
        "        # Проверяем, поджаты ли губы\n",
        "        if 'top_lip' in face_landmark and 'bottom_lip' in face_landmark:\n",
        "            top_lip = face_landmark['top_lip']\n",
        "            bottom_lip = face_landmark['bottom_lip']\n",
        "            lip_distance = sum(abs(top_lip[i][1] - bottom_lip[i][1]) for i in range(len(top_lip)))\n",
        "\n",
        "            # Если расстояние между губами небольшое, считаем, что губы поджаты\n",
        "            if lip_distance < 20 and len(top_lip) > 0 and len(bottom_lip) > 0:\n",
        "                lips_pouted_count += 1\n",
        "\n",
        "# Вывод результатов\n",
        "print(f'Number of times lips were pouted: {lips_pouted_count}')\n"
      ],
      "metadata": {
        "colab": {
          "base_uri": "https://localhost:8080/"
        },
        "id": "HzYnNwtphKY5",
        "outputId": "4860d866-3f6c-46e9-efbf-2d329a88b94f"
      },
      "execution_count": 17,
      "outputs": [
        {
          "output_type": "stream",
          "name": "stdout",
          "text": [
            "Drive already mounted at /content/drive; to attempt to forcibly remount, call drive.mount(\"/content/drive\", force_remount=True).\n",
            "Number of times lips were pouted: 15\n"
          ]
        }
      ]
    },
    {
      "cell_type": "code",
      "source": [
        "from google.colab import drive\n",
        "import face_recognition\n",
        "import math\n",
        "\n",
        "# Монтируем Google Drive\n",
        "drive.mount('/content/drive')\n",
        "\n",
        "# Путь к директории с изображениями на Google Drive\n",
        "image_dir = '/content/drive/MyDrive/eye_dataset1'\n",
        "\n",
        "# Переменные для подсчета направления взгляда\n",
        "look_left_count = 0\n",
        "look_right_count = 0\n",
        "look_straight_count = 0\n",
        "\n",
        "# Обработка всех изображений в директории\n",
        "for filename in os.listdir(image_dir):\n",
        "    img_path = os.path.join(image_dir, filename)\n",
        "\n",
        "    # Загружаем изображение\n",
        "    image = face_recognition.load_image_file(img_path)\n",
        "\n",
        "    # Находим лица и признаки лица на изображении\n",
        "    face_landmarks = face_recognition.face_landmarks(image)\n",
        "\n",
        "    # Анализируем каждое найденное лицо\n",
        "    for face_landmark in face_landmarks:\n",
        "        # Извлекаем координаты левого и правого глаза\n",
        "        left_eye = face_landmark['left_eye']\n",
        "        right_eye = face_landmark['right_eye']\n",
        "\n",
        "        # Вычисляем угол взгляда\n",
        "        left_eye_center = (sum([p[0] for p in left_eye]) / len(left_eye),\n",
        "                            sum([p[1] for p in left_eye]) / len(left_eye))\n",
        "        right_eye_center = (sum([p[0] for p in right_eye]) / len(right_eye),\n",
        "                             sum([p[1] for p in right_eye]) / len(right_eye))\n",
        "\n",
        "        dx = right_eye_center[0] - left_eye_center[0]\n",
        "        dy = right_eye_center[1] - left_eye_center[1]\n",
        "        gaze_angle = math.atan2(dy, dx) * 180 / math.pi\n",
        "\n",
        "        # Определяем направление взгляда\n",
        "        if gaze_angle > 15:\n",
        "            look_right_count += 1\n",
        "        elif gaze_angle < -15:\n",
        "            look_left_count += 1\n",
        "        else:\n",
        "            look_straight_count += 1\n",
        "\n",
        "# Вывод результатов\n",
        "print(f'Number of times looked left: {look_left_count}')\n",
        "print(f'Number of times looked right: {look_right_count}')\n",
        "print(f'Number of times looked straight: {look_straight_count}')\n"
      ],
      "metadata": {
        "colab": {
          "base_uri": "https://localhost:8080/"
        },
        "id": "DzsOdS80h0zh",
        "outputId": "a5a9d23a-f021-498a-eb8b-328fd12d46ef"
      },
      "execution_count": 8,
      "outputs": [
        {
          "output_type": "stream",
          "name": "stdout",
          "text": [
            "Drive already mounted at /content/drive; to attempt to forcibly remount, call drive.mount(\"/content/drive\", force_remount=True).\n",
            "Number of times looked left: 2\n",
            "Number of times looked right: 1\n",
            "Number of times looked straight: 30\n"
          ]
        }
      ]
    },
    {
      "cell_type": "code",
      "source": [
        "import os\n",
        "import face_recognition\n",
        "import numpy as np\n",
        "from google.colab import drive\n",
        "\n",
        "# Монтируем Google Drive\n",
        "drive.mount('/content/drive')\n",
        "\n",
        "# Путь к директории с изображениями на Google Drive\n",
        "image_dir = '/content/drive/MyDrive/head_dataset'\n",
        "\n",
        "# Переменные для подсчета направления наклона головы\n",
        "head_left_count = 0\n",
        "head_right_count = 0\n",
        "head_straight_count = 0\n",
        "\n",
        "# Обработка всех изображений в директории\n",
        "for filename in os.listdir(image_dir):\n",
        "    img_path = os.path.join(image_dir, filename)\n",
        "\n",
        "    # Загружаем изображение\n",
        "    image = face_recognition.load_image_file(img_path)\n",
        "\n",
        "    # Находим лица и признаки лица на изображении\n",
        "    face_landmarks = face_recognition.face_landmarks(image)\n",
        "\n",
        "    # Анализируем каждое найденное лицо\n",
        "    for face_landmark in face_landmarks:\n",
        "        # Извлекаем координаты левого и правого глаза\n",
        "        left_eye = face_landmark['left_eye']\n",
        "        right_eye = face_landmark['right_eye']\n",
        "\n",
        "        # Вычисляем угол наклона головы\n",
        "        left_eye_center = np.mean(left_eye, axis=0)\n",
        "        right_eye_center = np.mean(right_eye, axis=0)\n",
        "\n",
        "        dx = right_eye_center[0] - left_eye_center[0]\n",
        "        dy = right_eye_center[1] - left_eye_center[1]\n",
        "        head_pose_angle = np.arctan2(dy, dx) * 180 / np.pi\n",
        "\n",
        "        # Определяем направление наклона головы\n",
        "        if head_pose_angle > 15:\n",
        "            head_left_count += 1\n",
        "        elif head_pose_angle < -15:\n",
        "            head_right_count += 1\n",
        "        else:\n",
        "            head_straight_count += 1\n",
        "\n",
        "# Вывод результатов\n",
        "print(f'Number of times head tilted left: {head_left_count}')\n",
        "print(f'Number of times head tilted right: {head_right_count}')\n",
        "print(f'Number of times head straight: {head_straight_count}')\n",
        "\n"
      ],
      "metadata": {
        "colab": {
          "base_uri": "https://localhost:8080/"
        },
        "id": "kOtiKYClxPEh",
        "outputId": "084a6f89-2ab0-41cf-9a0c-eed661af8abc"
      },
      "execution_count": 7,
      "outputs": [
        {
          "output_type": "stream",
          "name": "stdout",
          "text": [
            "Drive already mounted at /content/drive; to attempt to forcibly remount, call drive.mount(\"/content/drive\", force_remount=True).\n",
            "Number of times head tilted left: 11\n",
            "Number of times head tilted right: 9\n",
            "Number of times head straight: 16\n"
          ]
        }
      ]
    }
  ]
}