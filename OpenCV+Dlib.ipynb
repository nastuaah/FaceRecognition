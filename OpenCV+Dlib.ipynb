{
  "nbformat": 4,
  "nbformat_minor": 0,
  "metadata": {
    "colab": {
      "provenance": [],
      "authorship_tag": "ABX9TyNijchu5KqdGIA2rteLeP2t",
      "include_colab_link": true
    },
    "kernelspec": {
      "name": "python3",
      "display_name": "Python 3"
    },
    "language_info": {
      "name": "python"
    }
  },
  "cells": [
    {
      "cell_type": "markdown",
      "metadata": {
        "id": "view-in-github",
        "colab_type": "text"
      },
      "source": [
        "<a href=\"https://colab.research.google.com/github/nastuaah/FaceRecognition/blob/main/OpenCV%2BDlib.ipynb\" target=\"_parent\"><img src=\"https://colab.research.google.com/assets/colab-badge.svg\" alt=\"Open In Colab\"/></a>"
      ]
    },
    {
      "cell_type": "code",
      "execution_count": null,
      "metadata": {
        "colab": {
          "base_uri": "https://localhost:8080/"
        },
        "id": "74B6TxEKyFUq",
        "outputId": "5b682f66-23fb-4557-ba2b-751e651c13ac"
      },
      "outputs": [
        {
          "output_type": "stream",
          "name": "stdout",
          "text": [
            "Drive already mounted at /content/drive; to attempt to forcibly remount, call drive.mount(\"/content/drive\", force_remount=True).\n",
            "Total lip presses: 28\n"
          ]
        }
      ],
      "source": [
        "import os\n",
        "from google.colab import drive\n",
        "import cv2\n",
        "import dlib\n",
        "\n",
        "# Монтируем Google Drive\n",
        "drive.mount('/content/drive')\n",
        "\n",
        "# Загружаем предобученную модель для обнаружения ключевых точек лица из dlib\n",
        "predictor_path = \"/content/drive/MyDrive/shape_predictor_68_face_landmarks.dat\"\n",
        "detector = dlib.get_frontal_face_detector()\n",
        "predictor = dlib.shape_predictor(predictor_path)\n",
        "\n",
        "# Счетчик для подсчета количества поджатых губ\n",
        "lip_press_count = 0\n",
        "\n",
        "# Путь к директории с датасетом на Google Drive\n",
        "dataset_path = \"/content/drive/MyDrive/lips_dataset\"\n",
        "\n",
        "# Обработка изображений в датасете\n",
        "for filename in os.listdir(dataset_path):\n",
        "    img_path = os.path.join(dataset_path, filename)\n",
        "    img = cv2.imread(img_path)\n",
        "\n",
        "    # Конвертируем изображение в оттенки серого\n",
        "    gray = cv2.cvtColor(img, cv2.COLOR_BGR2GRAY)\n",
        "\n",
        "    # Обнаруживаем лица на изображении\n",
        "    faces = detector(gray)\n",
        "\n",
        "    for face in faces:\n",
        "        # Обнаруживаем ключевые точки лица\n",
        "        landmarks = predictor(gray, face)\n",
        "\n",
        "        # Извлекаем координаты точек в области рта\n",
        "        mouth_points = []\n",
        "        for n in range(48, 68):\n",
        "            x = landmarks.part(n).x\n",
        "            y = landmarks.part(n).y\n",
        "            mouth_points.append((x, y))\n",
        "\n",
        "        # Вычисляем расстояние между верхней и нижней губой\n",
        "        lip_distance = mouth_points[15][1] - mouth_points[16][1]\n",
        "\n",
        "        # Если расстояние меньше порогового значения, считаем, что губы поджаты\n",
        "        if lip_distance < 1:\n",
        "            lip_press_count += 1\n",
        "\n",
        "# Выводим количество раз, когда губы были поджаты\n",
        "print(f\"Total lip presses: {lip_press_count}\")\n"
      ]
    },
    {
      "cell_type": "code",
      "source": [
        "import os\n",
        "from google.colab import drive\n",
        "import cv2\n",
        "import numpy as np\n",
        "\n",
        "# Монтируем Google Drive\n",
        "drive.mount('/content/drive')\n",
        "\n",
        "# Переменные для подсчета количества взглядов в каждую сторону\n",
        "forward_look_count = 0\n",
        "left_look_count = 0\n",
        "right_look_count = 0\n",
        "\n",
        "# Функция для определения направления взгляда\n",
        "def determine_gaze_direction(frame):\n",
        "    gray = cv2.cvtColor(frame, cv2.COLOR_BGR2GRAY)\n",
        "    eyes = eye_cascade.detectMultiScale(gray, scaleFactor=1.1, minNeighbors=5)\n",
        "\n",
        "    left_eye_centers = []\n",
        "    right_eye_centers = []\n",
        "\n",
        "    for (ex, ey, ew, eh) in eyes:\n",
        "        eye_center_x = ex + ew // 2\n",
        "        eye_center_y = ey + eh // 2\n",
        "\n",
        "        if eye_center_x < frame.shape[1] // 2:\n",
        "            left_eye_centers.append((eye_center_x, eye_center_y))\n",
        "        elif eye_center_x > frame.shape[1] // 2:\n",
        "            right_eye_centers.append((eye_center_x, eye_center_y))\n",
        "\n",
        "    if len(left_eye_centers) > len(right_eye_centers):\n",
        "        return 'LEFT'\n",
        "    elif len(right_eye_centers) > len(left_eye_centers):\n",
        "        return 'RIGHT'\n",
        "    else:\n",
        "        return 'FORWARD'\n",
        "\n",
        "# Загрузка каскада Хаара для глаз\n",
        "eye_cascade = cv2.CascadeClassifier('/content/drive/MyDrive/haarcascade_eye.xml')\n",
        "\n",
        "# Обработка датасета\n",
        "dataset_path = '/content/drive/MyDrive/eye_dataset1'\n",
        "\n",
        "for filename in os.listdir(dataset_path):\n",
        "    img_path = os.path.join(dataset_path, filename)\n",
        "    img = cv2.imread(img_path)\n",
        "    gaze_direction = determine_gaze_direction(img)\n",
        "\n",
        "    if gaze_direction == 'FORWARD':\n",
        "        forward_look_count += 1\n",
        "    elif gaze_direction == 'LEFT':\n",
        "        left_look_count += 1\n",
        "    elif gaze_direction == 'RIGHT':\n",
        "        right_look_count += 1\n",
        "    else:\n",
        "      \"NO EYES\"\n",
        "\n",
        "# Вывод результатов\n",
        "print(f'Number of forward looks: {forward_look_count}')\n",
        "print(f'Number of left looks: {left_look_count}')\n",
        "print(f'Number of right looks: {right_look_count}')\n"
      ],
      "metadata": {
        "colab": {
          "base_uri": "https://localhost:8080/"
        },
        "id": "6s3XJAldze-e",
        "outputId": "43ee94c9-e651-4376-fe33-2ad628b53998"
      },
      "execution_count": 3,
      "outputs": [
        {
          "output_type": "stream",
          "name": "stdout",
          "text": [
            "Drive already mounted at /content/drive; to attempt to forcibly remount, call drive.mount(\"/content/drive\", force_remount=True).\n",
            "Number of forward looks: 9\n",
            "Number of left looks: 14\n",
            "Number of right looks: 8\n"
          ]
        }
      ]
    },
    {
      "cell_type": "code",
      "source": [
        "import os\n",
        "from google.colab import drive\n",
        "import cv2\n",
        "import dlib\n",
        "\n",
        "# Монтируем Google Drive\n",
        "drive.mount('/content/drive')\n",
        "\n",
        "# Загружаем предобученную модель для обнаружения ключевых точек лица из dlib\n",
        "predictor_path = \"/content/drive/MyDrive/shape_predictor_68_face_landmarks.dat\"\n",
        "detector = dlib.get_frontal_face_detector()\n",
        "predictor = dlib.shape_predictor(predictor_path)\n",
        "\n",
        "# Переменные для подсчета количества наклонов головы\n",
        "head_left_count = 0\n",
        "head_right_count = 0\n",
        "head_straight_count = 0\n",
        "\n",
        "# Путь к директории с датасетом на Google Drive\n",
        "dataset_path = \"/content/drive/MyDrive/head_dataset\"\n",
        "\n",
        "# Обработка изображений в датасете\n",
        "for filename in os.listdir(dataset_path):\n",
        "    img_path = os.path.join(dataset_path, filename)\n",
        "    img = cv2.imread(img_path)\n",
        "    gray = cv2.cvtColor(img, cv2.COLOR_BGR2GRAY)\n",
        "\n",
        "    # Обнаруживаем лица на изображении\n",
        "    faces = detector(gray)\n",
        "\n",
        "    for face in faces:\n",
        "        # Обнаруживаем ключевые точки лица\n",
        "        landmarks = predictor(gray, face)\n",
        "\n",
        "        # Извлекаем координаты левого и правого глаза\n",
        "        left_eye = landmarks.parts()[36:42]\n",
        "        right_eye = landmarks.parts()[42:48]\n",
        "\n",
        "        # Вычисляем угол наклона головы\n",
        "        left_eye_center = (sum([p.x for p in left_eye]) / len(left_eye),\n",
        "                           sum([p.y for p in left_eye]) / len(left_eye))\n",
        "        right_eye_center = (sum([p.x for p in right_eye]) / len(right_eye),\n",
        "                            sum([p.y for p in right_eye]) / len(right_eye))\n",
        "\n",
        "        dx = right_eye_center[0] - left_eye_center[0]\n",
        "        dy = right_eye_center[1] - left_eye_center[1]\n",
        "        head_pose_angle = cv2.fastAtan2(dy, dx)\n",
        "\n",
        "        # Определяем направление наклона головы\n",
        "        if head_pose_angle > 15:\n",
        "            head_left_count += 1\n",
        "        elif head_pose_angle < -15:\n",
        "            head_right_count += 1\n",
        "        else:\n",
        "            head_straight_count += 1\n",
        "\n",
        "# Вывод результатов\n",
        "print(f'Number of times head tilted left: {head_left_count}')\n",
        "print(f'Number of times head tilted right: {head_right_count}')\n",
        "print(f'Number of times head straight: {head_straight_count}')\n",
        "\n"
      ],
      "metadata": {
        "colab": {
          "base_uri": "https://localhost:8080/"
        },
        "id": "LXV71JzC0SBR",
        "outputId": "a92c064d-a3c1-4876-8dfb-fa27c9c1c81a"
      },
      "execution_count": 1,
      "outputs": [
        {
          "output_type": "stream",
          "name": "stdout",
          "text": [
            "Mounted at /content/drive\n",
            "Number of times head tilted left: 12\n",
            "Number of times head tilted right: 15\n",
            "Number of times head straight: 10\n"
          ]
        }
      ]
    }
  ]
}